{
 "cells": [
  {
   "cell_type": "markdown",
   "metadata": {
    "id": "Whsg1XX_OZs6"
   },
   "source": [
    "# Boilerplate\n",
    "\n",
    "Package installation, loading, and dataloaders. There's also a simple model defined. You can change it your favourite architecture if you want."
   ]
  },
  {
   "cell_type": "code",
   "execution_count": 30,
   "metadata": {
    "id": "R1domTvnONqD"
   },
   "outputs": [
    {
     "data": {
      "text/plain": [
       "Sequential(\n",
       "  (0): Normalize()\n",
       "  (1): Net(\n",
       "    (fc): Linear(in_features=784, out_features=200, bias=True)\n",
       "    (fc2): Linear(in_features=200, out_features=10, bias=True)\n",
       "  )\n",
       ")"
      ]
     },
     "execution_count": 30,
     "metadata": {},
     "output_type": "execute_result"
    }
   ],
   "source": [
    "# !pip install tensorboardX\n",
    "\n",
    "import torch\n",
    "import torch.nn as nn\n",
    "import torch.optim as optim\n",
    "import torch.nn.functional as F\n",
    "import numpy as np\n",
    "import time\n",
    "import matplotlib.pyplot as plt\n",
    "\n",
    "from torchvision import datasets, transforms\n",
    "# from tensorboardX import SummaryWriter\n",
    "\n",
    "use_cuda = False\n",
    "device = torch.device(\"cuda\" if use_cuda else \"cpu\")\n",
    "batch_size = 64 \n",
    "\n",
    "np.random.seed(42)\n",
    "torch.manual_seed(42)\n",
    "\n",
    "\n",
    "## Dataloaders\n",
    "train_dataset = datasets.MNIST('mnist_data/', train=True, download=True, transform=transforms.Compose(\n",
    "    [transforms.ToTensor()]\n",
    "))\n",
    "test_dataset = datasets.MNIST('mnist_data/', train=False, download=True, transform=transforms.Compose(\n",
    "    [transforms.ToTensor()]\n",
    "))\n",
    "\n",
    "train_loader = torch.utils.data.DataLoader(train_dataset, batch_size=batch_size, shuffle=True)\n",
    "test_loader = torch.utils.data.DataLoader(test_dataset, batch_size=batch_size, shuffle=False)\n",
    "\n",
    "## Simple NN. You can change this if you want. If you change it, mention the architectural details in your report.\n",
    "class Net(nn.Module):\n",
    "    def __init__(self):\n",
    "        super(Net, self).__init__()\n",
    "        self.fc = nn.Linear(28*28, 200)\n",
    "        self.fc2 = nn.Linear(200,10)\n",
    "\n",
    "    def forward(self, x):\n",
    "        x = x.view((-1, 28*28))\n",
    "        x = F.relu(self.fc(x))\n",
    "        x = self.fc2(x)\n",
    "        return x\n",
    "\n",
    "class Normalize(nn.Module):\n",
    "    def forward(self, x):\n",
    "        return (x - 0.1307)/0.3081\n",
    "\n",
    "# Add the data normalization as a first \"layer\" to the network\n",
    "# this allows us to search for adverserial examples to the real image, rather than\n",
    "# to the normalized image\n",
    "model = nn.Sequential(Normalize(), Net())\n",
    "\n",
    "model = model.to(device)\n",
    "model.train()"
   ]
  },
  {
   "cell_type": "markdown",
   "metadata": {
    "id": "NCmWfZHTO8Oo"
   },
   "source": [
    "# Implement the Attacks\n",
    "\n",
    "Functions are given a simple useful signature that you can start with. Feel free to extend the signature as you see fit.\n",
    "\n",
    "You may find it useful to create a 'batched' version of PGD that you can use to create the adversarial attack."
   ]
  },
  {
   "cell_type": "code",
   "execution_count": 3,
   "metadata": {
    "id": "EZjvA49yONqP"
   },
   "outputs": [],
   "source": [
    "# The last argument 'targeted' can be used to toggle between a targeted and untargeted attack.\n",
    "def fgsm(model, x, y, eps):\n",
    "    #TODO: implement this as an intermediate step of PGD\n",
    "    # Notes: put the model in eval() mode for this function\n",
    "    x_grad = x.clone().detach().requires_grad_(True)\n",
    "    output = model(x_grad)\n",
    "    loss = F.cross_entropy(output, y)\n",
    "    model.zero_grad()\n",
    "    loss.backward()\n",
    "    sign_data_grad = x_grad.grad.data.sign()\n",
    "    perturbed_image = x_grad + eps * sign_data_grad\n",
    "    return perturbed_image\n",
    "\n",
    "def pgd_untargeted(model, x, y, k, eps, eps_step):\n",
    "    #TODO: implement this \n",
    "    # Notes: put the model in eval() mode for this function\n",
    "    # x: input image\n",
    "    # y: ground truth label for x\n",
    "    # k: steps of FGSM\n",
    "    # eps: projection region for PGD (note the need for normalization before projection, as eps values are for inputs in [0,1])\n",
    "    # eps_step: step for one iteration of FGSM\n",
    "\n",
    "    x_adv_out = x.clone().detach().requires_grad_(True)\n",
    "\n",
    "    for i in range(k):\n",
    "        perturbed_image = fgsm(model, x_adv_out, y, eps_step)\n",
    "        perturbed_image = torch.clamp(perturbed_image - x, -eps, eps)\n",
    "        x_adv_out = torch.clamp(x + perturbed_image, 0, 1)\n",
    "\n",
    "    return x_adv_out\n",
    "# The last argument 'targeted' can be used to toggle between a targeted and untargeted attack.\n"
   ]
  },
  {
   "cell_type": "markdown",
   "metadata": {
    "id": "0Mja_AB4RykO"
   },
   "source": [
    "# Implement Adversarial Training"
   ]
  },
  {
   "cell_type": "code",
   "execution_count": 4,
   "metadata": {
    "id": "V-sw8yKYONqQ"
   },
   "outputs": [],
   "source": [
    "def train_model(model, train_loader, test_loader, num_epochs, enable_defense=False, attack='pgd', eps=0.1):\n",
    "    optimizer = optim.Adam(model.parameters(), lr=0.001)\n",
    "    for epoch in range(num_epochs):\n",
    "        model.train()\n",
    "        curr_loss = 0.0\n",
    "        \n",
    "        for i, (image, label) in enumerate(train_loader):\n",
    "            image, label = image.to(device), label.to(device)\n",
    "            \n",
    "            if enable_defense:\n",
    "                if attack == 'fgsm':\n",
    "                    image_adv = fgsm(model, image, label, eps)\n",
    "                elif attack == 'pgd':\n",
    "                    image_adv = pgd_untargeted(model, image, label, 10, eps, 0.01)\n",
    "                \n",
    "                outputs = model(image_adv)\n",
    "            else:\n",
    "                outputs = model(image)\n",
    "            \n",
    "            loss = F.cross_entropy(outputs, label)\n",
    "            optimizer.zero_grad()\n",
    "            loss.backward()\n",
    "            optimizer.step()\n",
    "            curr_loss += loss.item()\n",
    "        \n",
    "        print(f\"Epoch {epoch} of {num_epochs}, Loss: {curr_loss/len(train_loader):.3f}\")\n",
    "    # TODO: implement this function that trains a given model on the MNIST dataset.\n",
    "    # this is a general-purpose function for both standard training and adversarial training.\n",
    "    # (toggle enable_defense parameter to switch between training schemes) "
   ]
  },
  {
   "cell_type": "code",
   "execution_count": 64,
   "metadata": {},
   "outputs": [],
   "source": [
    "def test_model_on_attacks(model, test_loader, attack='pgd', eps=0.1):\n",
    "    # TODO: implement this function to test the robust accuracy of the given model\n",
    "    # use pgd_untargeted() within this function\n",
    "    correct = 0\n",
    "    adv_examples = []\n",
    "    for j, (image, label) in enumerate(test_loader):\n",
    "        image, label = image, label\n",
    "        if attack == 'fgsm':\n",
    "            adv_x = fgsm(model, image, label, eps)\n",
    "        else:\n",
    "            adv_x = pgd_untargeted(model, image, label, 10, eps, 0.01)        \n",
    "        output = model(adv_x)\n",
    "        _, pred = torch.max(output, 1)\n",
    "        correct += (pred == label).sum().item()\n",
    "    model.train()\n",
    "    print('Accuracy = {}%'.format(float(correct) * 100 / 10000))\n",
    "    "
   ]
  },
  {
   "cell_type": "code",
   "execution_count": 9,
   "metadata": {},
   "outputs": [],
   "source": [
    "def test_std_acc(model, test_loader):\n",
    "    correct = 0\n",
    "    for j, (image, label) in enumerate(test_loader):\n",
    "        image, label = image.to(device), label.to(device)\n",
    "        output = model(image)\n",
    "        _, pred = torch.max(output, 1)\n",
    "        correct += (pred == label).sum().item()\n",
    "    model.train()\n",
    "    print('Accuracy = {}%'.format(float(correct) * 100 / 10000))"
   ]
  },
  {
   "cell_type": "markdown",
   "metadata": {
    "id": "ZPMdfEhtR3zm"
   },
   "source": [
    "# Study Accuracy, Quality, etc.\n",
    "\n",
    "Compare the various results and report your observations on the submission."
   ]
  },
  {
   "cell_type": "code",
   "execution_count": 97,
   "metadata": {
    "scrolled": true
   },
   "outputs": [
    {
     "name": "stdout",
     "output_type": "stream",
     "text": [
      "Epoch 0 of 20, Loss: 0.239\n",
      "Epoch 1 of 20, Loss: 0.100\n",
      "Epoch 2 of 20, Loss: 0.068\n",
      "Epoch 3 of 20, Loss: 0.051\n",
      "Epoch 4 of 20, Loss: 0.039\n",
      "Epoch 5 of 20, Loss: 0.033\n",
      "Epoch 6 of 20, Loss: 0.026\n",
      "Epoch 7 of 20, Loss: 0.023\n",
      "Epoch 8 of 20, Loss: 0.019\n",
      "Epoch 9 of 20, Loss: 0.018\n",
      "Epoch 10 of 20, Loss: 0.015\n",
      "Epoch 11 of 20, Loss: 0.013\n",
      "Epoch 12 of 20, Loss: 0.015\n",
      "Epoch 13 of 20, Loss: 0.013\n",
      "Epoch 14 of 20, Loss: 0.011\n",
      "Epoch 15 of 20, Loss: 0.013\n",
      "Epoch 16 of 20, Loss: 0.010\n",
      "Epoch 17 of 20, Loss: 0.006\n",
      "Epoch 18 of 20, Loss: 0.013\n",
      "Epoch 19 of 20, Loss: 0.008\n"
     ]
    }
   ],
   "source": [
    "## train the original model\n",
    "model.eval()\n",
    "model = nn.Sequential(Normalize(), Net())\n",
    "model = model.to(device)\n",
    "model.train()\n",
    "\n",
    "train_model(model, train_loader, test_loader, 20, False)\n",
    "torch.save(model.state_dict(), 'weights.pt')"
   ]
  },
  {
   "cell_type": "code",
   "execution_count": 33,
   "metadata": {},
   "outputs": [
    {
     "name": "stderr",
     "output_type": "stream",
     "text": [
      "/tmp/ipykernel_14611/3153930003.py:4: FutureWarning: You are using `torch.load` with `weights_only=False` (the current default value), which uses the default pickle module implicitly. It is possible to construct malicious pickle data which will execute arbitrary code during unpickling (See https://github.com/pytorch/pytorch/blob/main/SECURITY.md#untrusted-models for more details). In a future release, the default value for `weights_only` will be flipped to `True`. This limits the functions that could be executed during unpickling. Arbitrary objects will no longer be allowed to be loaded via this mode unless they are explicitly allowlisted by the user via `torch.serialization.add_safe_globals`. We recommend you start setting `weights_only=True` for any use case where you don't have full control of the loaded file. Please open an issue on GitHub for any issues related to this experimental feature.\n",
      "  model.load_state_dict(torch.load('weights.pt'))\n"
     ]
    },
    {
     "name": "stdout",
     "output_type": "stream",
     "text": [
      "Accuracy = 98.12%\n"
     ]
    }
   ],
   "source": [
    "# standard accuracy\n",
    "\n",
    "model = nn.Sequential(Normalize(), Net())\n",
    "model.load_state_dict(torch.load('weights.pt'))\n",
    "\n",
    "test_std_acc(model, test_loader)"
   ]
  },
  {
   "cell_type": "code",
   "execution_count": 101,
   "metadata": {
    "id": "ufD-ccTFR8R2"
   },
   "outputs": [
    {
     "name": "stdout",
     "output_type": "stream",
     "text": [
      "Epoch 0 of 20, Loss: 0.770\n",
      "Epoch 1 of 20, Loss: 0.475\n",
      "Epoch 2 of 20, Loss: 0.417\n",
      "Epoch 3 of 20, Loss: 0.387\n",
      "Epoch 4 of 20, Loss: 0.365\n",
      "Epoch 5 of 20, Loss: 0.353\n",
      "Epoch 6 of 20, Loss: 0.343\n",
      "Epoch 7 of 20, Loss: 0.333\n",
      "Epoch 8 of 20, Loss: 0.330\n",
      "Epoch 9 of 20, Loss: 0.323\n",
      "Epoch 10 of 20, Loss: 0.316\n",
      "Epoch 11 of 20, Loss: 0.314\n",
      "Epoch 12 of 20, Loss: 0.307\n",
      "Epoch 13 of 20, Loss: 0.307\n",
      "Epoch 14 of 20, Loss: 0.302\n",
      "Epoch 15 of 20, Loss: 0.300\n",
      "Epoch 16 of 20, Loss: 0.297\n",
      "Epoch 17 of 20, Loss: 0.294\n",
      "Epoch 18 of 20, Loss: 0.291\n",
      "Epoch 19 of 20, Loss: 0.291\n"
     ]
    }
   ],
   "source": [
    "## PGD based adversarial training\n",
    "model = nn.Sequential(Normalize(), Net())\n",
    "eps = 0.1\n",
    "train_model(model, train_loader, test_loader, 20, True, 'pgd', eps)\n",
    "torch.save(model.state_dict(), f'weights_AT_{eps}.pt')"
   ]
  },
  {
   "cell_type": "code",
   "execution_count": 103,
   "metadata": {},
   "outputs": [
    {
     "name": "stderr",
     "output_type": "stream",
     "text": [
      "/tmp/ipykernel_387726/2912702472.py:3: FutureWarning: You are using `torch.load` with `weights_only=False` (the current default value), which uses the default pickle module implicitly. It is possible to construct malicious pickle data which will execute arbitrary code during unpickling (See https://github.com/pytorch/pytorch/blob/main/SECURITY.md#untrusted-models for more details). In a future release, the default value for `weights_only` will be flipped to `True`. This limits the functions that could be executed during unpickling. Arbitrary objects will no longer be allowed to be loaded via this mode unless they are explicitly allowlisted by the user via `torch.serialization.add_safe_globals`. We recommend you start setting `weights_only=True` for any use case where you don't have full control of the loaded file. Please open an issue on GitHub for any issues related to this experimental feature.\n",
      "  model.load_state_dict(torch.load('weights_AT_0.1.pt'))\n"
     ]
    },
    {
     "name": "stdout",
     "output_type": "stream",
     "text": [
      "Accuracy = 95.43%\n",
      "Accuracy = 89.02%\n",
      "Accuracy = 72.67%\n",
      "Accuracy = 43.79%\n"
     ]
    }
   ],
   "source": [
    "## PGD attack on adversarially trained model\n",
    "model = nn.Sequential(Normalize(), Net())\n",
    "model.load_state_dict(torch.load('weights_AT_0.1.pt'))\n",
    "\n",
    "for eps in [0.05, 0.1, 0.15, 0.2]:\n",
    "    #model = model.load_state_dict(torch.load(f'weights_AT_{eps}.pt'))\n",
    "    test_model_on_attacks(model, test_loader, attack='pgd', eps=eps)"
   ]
  },
  {
   "cell_type": "code",
   "execution_count": 65,
   "metadata": {},
   "outputs": [
    {
     "name": "stderr",
     "output_type": "stream",
     "text": [
      "/tmp/ipykernel_14611/1363579125.py:3: FutureWarning: You are using `torch.load` with `weights_only=False` (the current default value), which uses the default pickle module implicitly. It is possible to construct malicious pickle data which will execute arbitrary code during unpickling (See https://github.com/pytorch/pytorch/blob/main/SECURITY.md#untrusted-models for more details). In a future release, the default value for `weights_only` will be flipped to `True`. This limits the functions that could be executed during unpickling. Arbitrary objects will no longer be allowed to be loaded via this mode unless they are explicitly allowlisted by the user via `torch.serialization.add_safe_globals`. We recommend you start setting `weights_only=True` for any use case where you don't have full control of the loaded file. Please open an issue on GitHub for any issues related to this experimental feature.\n",
      "  model.load_state_dict(torch.load('weights_AT_0.1.pt'))\n"
     ]
    },
    {
     "name": "stdout",
     "output_type": "stream",
     "text": [
      "Accuracy = 93.77%\n",
      "Accuracy = 83.76%\n",
      "Accuracy = 64.59%\n",
      "Accuracy = 40.13%\n"
     ]
    }
   ],
   "source": [
    "## FGSM attack on adversarially trained model\n",
    "model = nn.Sequential(Normalize(), Net())\n",
    "model.load_state_dict(torch.load('weights_AT_0.1.pt'))\n",
    "\n",
    "for eps in [0.05, 0.1, 0.15, 0.2]:\n",
    "    #model = model.load_state_dict(torch.load(f'weights_AT_{eps}.pt'))\n",
    "    test_model_on_attacks(model, test_loader, attack='fgsm', eps=eps)"
   ]
  }
 ],
 "metadata": {
  "colab": {
   "provenance": []
  },
  "kernelspec": {
   "display_name": "Python 3 (ipykernel)",
   "language": "python",
   "name": "python3"
  },
  "language_info": {
   "codemirror_mode": {
    "name": "ipython",
    "version": 3
   },
   "file_extension": ".py",
   "mimetype": "text/x-python",
   "name": "python",
   "nbconvert_exporter": "python",
   "pygments_lexer": "ipython3",
   "version": "3.12.3"
  }
 },
 "nbformat": 4,
 "nbformat_minor": 1
}
