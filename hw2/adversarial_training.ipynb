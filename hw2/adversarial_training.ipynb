{
 "cells": [
  {
   "cell_type": "markdown",
   "metadata": {
    "id": "Whsg1XX_OZs6"
   },
   "source": [
    "# Boilerplate\n",
    "\n",
    "Package installation, loading, and dataloaders. There's also a simple model defined. You can change it your favourite architecture if you want.\n"
   ]
  },
  {
   "cell_type": "code",
   "execution_count": 10,
   "metadata": {
    "id": "R1domTvnONqD"
   },
   "outputs": [],
   "source": [
    "# !pip install tensorboardX\n",
    "\n",
    "import torch\n",
    "import torch.nn as nn\n",
    "import torch.optim as optim\n",
    "import torch.nn.functional as F\n",
    "import numpy as np\n",
    "import time\n",
    "import matplotlib.pyplot as plt\n",
    "\n",
    "from torchvision import datasets, transforms\n",
    "\n",
    "# from tensorboardX import SummaryWriter\n",
    "\n",
    "use_cuda = False\n",
    "device = torch.device(\"cuda\" if use_cuda else \"cpu\")\n",
    "batch_size = 64\n",
    "\n",
    "np.random.seed(42)\n",
    "torch.manual_seed(42)\n",
    "\n",
    "\n",
    "## Dataloaders\n",
    "train_dataset = datasets.MNIST(\n",
    "    \"mnist_data/\",\n",
    "    train=True,\n",
    "    download=True,\n",
    "    transform=transforms.Compose([transforms.ToTensor()]),\n",
    ")\n",
    "test_dataset = datasets.MNIST(\n",
    "    \"mnist_data/\",\n",
    "    train=False,\n",
    "    download=True,\n",
    "    transform=transforms.Compose([transforms.ToTensor()]),\n",
    ")\n",
    "\n",
    "train_loader = torch.utils.data.DataLoader(\n",
    "    train_dataset, batch_size=batch_size, shuffle=True\n",
    ")\n",
    "test_loader = torch.utils.data.DataLoader(\n",
    "    test_dataset, batch_size=batch_size, shuffle=False\n",
    ")\n",
    "\n",
    "\n",
    "## Simple NN. You can change this if you want. If you change it, mention the architectural details in your report.\n",
    "class Net(nn.Module):\n",
    "    def __init__(self):\n",
    "        super(Net, self).__init__()\n",
    "        # changed to Sequential, easier to iterate\n",
    "        self.reg_model = nn.Sequential(\n",
    "            nn.Linear(28 * 28, 50),\n",
    "            nn.ReLU(),\n",
    "            nn.Linear(50, 50),\n",
    "            nn.ReLU(),\n",
    "            nn.Linear(50, 50),\n",
    "            nn.ReLU(),\n",
    "            nn.Linear(50, 10),\n",
    "        )\n",
    "\n",
    "    def forward(self, x):\n",
    "        x = x.view((-1, 28 * 28))\n",
    "        x = self.reg_model(x)\n",
    "        return x\n",
    "\n",
    "    def interval_analysis(self, x, epsilon):\n",
    "        x = x.view(x.size(0), -1)\n",
    "        lb = x - epsilon\n",
    "        ub = x + epsilon\n",
    "        model_layers = self.reg_model\n",
    "        for i in range(0, len(model_layers) - 1, 2):\n",
    "            layer = model_layers[i]\n",
    "            weight, bias = layer.weight, layer.bias\n",
    "\n",
    "            curr_lb = torch.nn.functional.relu(\n",
    "                torch.nn.functional.linear(lb, weight, bias)\n",
    "            )\n",
    "            curr_ub = torch.nn.functional.relu(\n",
    "                torch.nn.functional.linear(ub, weight, bias)\n",
    "            )\n",
    "\n",
    "            lb = torch.minimum(curr_lb, curr_ub)\n",
    "            ub = torch.maximum(curr_lb, curr_ub)\n",
    "\n",
    "        final_layer = model_layers[-1]\n",
    "        final_weight, final_bias = final_layer.weight, final_layer.bias\n",
    "\n",
    "        curr_lb = torch.nn.functional.relu(\n",
    "            torch.nn.functional.linear(lb, final_weight, final_bias)\n",
    "        )\n",
    "        curr_ub = torch.nn.functional.relu(\n",
    "            torch.nn.functional.linear(ub, final_weight, final_bias)\n",
    "        )\n",
    "\n",
    "        lb = torch.minimum(curr_lb, curr_ub)\n",
    "        ub = torch.maximum(curr_lb, curr_ub)\n",
    "        return lb, ub\n",
    "\n",
    "\n",
    "# Add the data normalization as a first \"layer\" to the network\n",
    "# this allows us to search for adverserial examples to the real image, rather than\n",
    "# to the normalized image\n",
    "\n",
    "# Normalization not needed unless training adversarially\n",
    "\n",
    "model = Net()\n",
    "\n",
    "model = model.to(device)"
   ]
  },
  {
   "cell_type": "code",
   "execution_count": 2,
   "metadata": {
    "id": "V-sw8yKYONqQ"
   },
   "outputs": [],
   "source": [
    "def train_model(model, train_loader, test_loader, num_epochs):\n",
    "    optimizer = optim.Adam(model.parameters(), lr=0.001)\n",
    "    for epoch in range(num_epochs):\n",
    "        model.train()\n",
    "        curr_loss = 0.0\n",
    "\n",
    "        for i, (image, label) in enumerate(train_loader):\n",
    "            image, label = image.to(device), label.to(device)\n",
    "            outputs = model(image)\n",
    "            loss = F.cross_entropy(outputs, label)\n",
    "            optimizer.zero_grad()\n",
    "            loss.backward()\n",
    "            optimizer.step()\n",
    "            curr_loss += loss.item()\n",
    "\n",
    "        print(f\"Epoch {epoch} of {num_epochs}, Loss: {curr_loss/len(train_loader):.3f}\")"
   ]
  },
  {
   "cell_type": "code",
   "execution_count": 3,
   "metadata": {
    "scrolled": true
   },
   "outputs": [
    {
     "name": "stdout",
     "output_type": "stream",
     "text": [
      "Epoch 0 of 20, Loss: 0.427\n",
      "Epoch 1 of 20, Loss: 0.182\n",
      "Epoch 2 of 20, Loss: 0.139\n",
      "Epoch 3 of 20, Loss: 0.113\n",
      "Epoch 4 of 20, Loss: 0.092\n",
      "Epoch 5 of 20, Loss: 0.083\n",
      "Epoch 6 of 20, Loss: 0.073\n",
      "Epoch 7 of 20, Loss: 0.065\n",
      "Epoch 8 of 20, Loss: 0.055\n",
      "Epoch 9 of 20, Loss: 0.052\n",
      "Epoch 10 of 20, Loss: 0.046\n",
      "Epoch 11 of 20, Loss: 0.043\n",
      "Epoch 12 of 20, Loss: 0.039\n",
      "Epoch 13 of 20, Loss: 0.035\n",
      "Epoch 14 of 20, Loss: 0.034\n",
      "Epoch 15 of 20, Loss: 0.029\n",
      "Epoch 16 of 20, Loss: 0.026\n",
      "Epoch 17 of 20, Loss: 0.026\n",
      "Epoch 18 of 20, Loss: 0.023\n",
      "Epoch 19 of 20, Loss: 0.021\n"
     ]
    }
   ],
   "source": [
    "## train the original model\n",
    "train_model(model, train_loader, test_loader, 20)\n",
    "torch.save(model.state_dict(), \"weights.pt\")"
   ]
  },
  {
   "cell_type": "code",
   "execution_count": 4,
   "metadata": {},
   "outputs": [],
   "source": [
    "def test_std_acc(model, test_loader):\n",
    "    correct = 0\n",
    "    for j, (image, label) in enumerate(test_loader):\n",
    "        image, label = image.to(device), label.to(device)\n",
    "        output = model(image)\n",
    "        _, pred = torch.max(output, 1)\n",
    "        correct += (pred == label).sum().item()\n",
    "    model.train()\n",
    "    print(\"Accuracy = {}%\".format(float(correct) * 100 / 10000))"
   ]
  },
  {
   "cell_type": "code",
   "execution_count": 5,
   "metadata": {},
   "outputs": [
    {
     "name": "stdout",
     "output_type": "stream",
     "text": [
      "Accuracy = 96.92%\n"
     ]
    }
   ],
   "source": [
    "test_std_acc(model, test_loader)"
   ]
  },
  {
   "cell_type": "code",
   "execution_count": 19,
   "metadata": {},
   "outputs": [],
   "source": [
    "def evaluate_robustness(model, test_loader, epsilons):\n",
    "    robust_counts = {eps: 0 for eps in epsilons}\n",
    "    total_samples = 0\n",
    "\n",
    "    for image, label in test_loader:\n",
    "        total_samples += image.size(0)\n",
    "\n",
    "        for eps in epsilons:\n",
    "            lb, ub = model.interval_analysis(image, eps)\n",
    "            _, pred_lb = torch.max(lb.data, 1)\n",
    "            _, pred_ub = torch.max(ub.data, 1)\n",
    "            preds = (pred_lb == label) & (pred_ub == label)\n",
    "\n",
    "            robust_counts[eps] += preds.sum().item()\n",
    "\n",
    "    for eps in epsilons:\n",
    "        print(f\"Robust accuracy for epsilon={eps:.2f}: {100 * robust_counts[eps] / total_samples:.4f}%\")\n",
    "\n",
    "    return robust_counts"
   ]
  },
  {
   "cell_type": "code",
   "execution_count": 20,
   "metadata": {},
   "outputs": [
    {
     "name": "stdout",
     "output_type": "stream",
     "text": [
      "Robust accuracy for epsilon=0.01: 8.3300%\n",
      "Robust accuracy for epsilon=0.02: 8.1900%\n",
      "Robust accuracy for epsilon=0.03: 8.1300%\n",
      "Robust accuracy for epsilon=0.04: 8.0800%\n",
      "Robust accuracy for epsilon=0.05: 7.9900%\n",
      "Robust accuracy for epsilon=0.06: 7.9800%\n",
      "Robust accuracy for epsilon=0.07: 7.9000%\n",
      "Robust accuracy for epsilon=0.08: 7.9200%\n",
      "Robust accuracy for epsilon=0.09: 7.9400%\n",
      "Robust accuracy for epsilon=0.10: 7.9400%\n"
     ]
    }
   ],
   "source": [
    "import numpy as np\n",
    "\n",
    "epsilons = np.linspace(0.01, 0.1, 10)\n",
    "robust_accs = evaluate_robustness(model, test_loader, epsilons)"
   ]
  },
  {
   "cell_type": "code",
   "execution_count": 21,
   "metadata": {},
   "outputs": [
    {
     "name": "stdout",
     "output_type": "stream",
     "text": [
      "{0.01: 833, 0.020000000000000004: 819, 0.030000000000000006: 813, 0.04000000000000001: 808, 0.05000000000000001: 799, 0.06000000000000001: 798, 0.07: 790, 0.08: 792, 0.09000000000000001: 794, 0.1: 794}\n"
     ]
    }
   ],
   "source": [
    "print(robust_accs)"
   ]
  },
  {
   "cell_type": "code",
   "execution_count": 26,
   "metadata": {},
   "outputs": [
    {
     "data": {
      "text/plain": [
       "Text(0.5, 1.0, 'Robust Accuracy vs Epsilon')"
      ]
     },
     "execution_count": 26,
     "metadata": {},
     "output_type": "execute_result"
    },
    {
     "data": {
      "image/png": "[encoded data removed]",
      "text/plain": [
       "<Figure size 640x480 with 1 Axes>"
      ]
     },
     "metadata": {},
     "output_type": "display_data"
    }
   ],
   "source": [
    "plt.plot(epsilons, [i/100 for i in robust_accs.values()], '-x')\n",
    "plt.xlabel(\"Epsilon\")\n",
    "plt.ylabel('Robust Accuracy')\n",
    "plt.title(\"Robust Accuracy vs Epsilon\")"
   ]
  }
 ],
 "metadata": {
  "colab": {
   "provenance": []
  },
  "kernelspec": {
   "display_name": "Python 3 (ipykernel)",
   "language": "python",
   "name": "python3"
  },
  "language_info": {
   "codemirror_mode": {
    "name": "ipython",
    "version": 3
   },
   "file_extension": ".py",
   "mimetype": "text/x-python",
   "name": "python",
   "nbconvert_exporter": "python",
   "pygments_lexer": "ipython3",
   "version": "3.12.3"
  }
 },
 "nbformat": 4,
 "nbformat_minor": 1
}
